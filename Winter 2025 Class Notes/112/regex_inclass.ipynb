{
 "cells": [
  {
   "cell_type": "markdown",
   "metadata": {},
   "source": [
    "<div align=right>\n",
    "Winter 2025<br>\n",
    "Nardin<br>\n",
    "Lecture 1\n",
    "</div>\n",
    "\n",
    "<h1 align=center>Regular Expressions</h1>"
   ]
  },
  {
   "cell_type": "markdown",
   "metadata": {},
   "source": [
    "<font color='darkblue'> <h2>Jupyter Notebooks</h2> </font>\n",
    "\n",
    "For most of our classes, we will be using Jupyter notebooks. Jupyter notebooks allow mixing \"markdown blocks,\" like the text you are reading now, and \"code blocks,\" like the block below in grey. \n",
    "\n",
    "Markdown blocks:\n",
    "* Markdown is a lightweigth language to format texts\n",
    "* To learn the basics (add headers, bullet points, links, emphasis) see [here](https://jupyter-notebook.readthedocs.io/en/stable/examples/Notebook/Working%20With%20Markdown%20Cells.html)\n",
    "\n",
    "Code blocks:\n",
    "* To execute a code block: press Ctrl+Enter or the \"Run\" button in the command tab at the top of the window\n",
    "* To comment out multiple lines of code within a block: select them and press Ctrl+/ \n",
    "* When you open a new notebook it is good practice to clear any pre-existing output: \"Cell\" > \"All Output\" > \"Clear\"\n",
    "* When you submit homework for this course the output of your code must be displayed: \"Cell\" > \"Run All\" (the code must be free of bugs)\n",
    "\n",
    "Modify, delete, or add new cells in any Jupyter notebook:\n",
    "* To modify a cell, click on it and change it\n",
    "* To insert a new cell, click on the \"Insert\" tab > \"Insert Cell Below\" (you can decide whether you want it to be as code or Markdown)\n",
    "* To delete a cell, click on it, then \"Edit\" > \"Delete Cells\""
   ]
  },
  {
   "cell_type": "code",
   "execution_count": 1,
   "metadata": {},
   "outputs": [
    {
     "name": "stdout",
     "output_type": "stream",
     "text": [
      "test message\n"
     ]
    },
    {
     "data": {
      "text/plain": [
       "'last line'"
      ]
     },
     "execution_count": 1,
     "metadata": {},
     "output_type": "execute_result"
    }
   ],
   "source": [
    "# to execute it press Ctrl+Enter or \"Run\" at the top of the screen\n",
    "print(\"test message\")\n",
    "\"last line\""
   ]
  },
  {
   "cell_type": "markdown",
   "metadata": {},
   "source": [
    "<font color='darkblue'> <h2>Learning Objectives</h2> </font>\n",
    "\n",
    "* Define what regular expressions are and what they do\n",
    "* Use the most important functions of the <code>re</code> module: search(), match(), findall(), split(), sub()\n",
    "* Recognize and use metacharacters and quantifiers \n",
    "* Apply regular expression syntax to create simple and medium difficulty level matching patterns \n",
    "* Understand grouping and backreferences"
   ]
  },
  {
   "cell_type": "markdown",
   "metadata": {},
   "source": [
    "<font color='darkblue'> <h2>Definition</h2> </font>\n",
    "    \n",
    "**Regular expressions** (\"regex\" or \"regexes\") **are strings containing normal characters and/or special meta-characters.** They describe a specific pattern to match in a given text. More formally, regex is a *language on its own right*  used for *pattern matching* in many programming languages.\n",
    "\n",
    "Regular expressions appear in Python and many other contexts (Java, R, etc).\n",
    "\n",
    "Given our ability to manipulate strings (with `find`, `replace`, `strip`, etc.) and test whether some string contains another, using the `in` operator, you might wonder why we <em>need</em> regular expressions... <b>because they are powerful!</b> Regular expressions allow us to find complex patterns in any task that deals with text. \n",
    "\n",
    "For example:\n",
    "* Extract characters for texts (e.g. dates, currency conversion rates, find all past tenses in a text)\n",
    "* Perform textual substitutions (e.g. find-replace)\n",
    "* Verify text format (e.g. \"Is this email/phone-number/address/serial-number valid?\")\n",
    "* Clean textual data\n",
    "* Only works for Strings!\n",
    "\n",
    "The downside is that regular experessions are a language on their own and it takes practice to remember and master it."
   ]
  },
  {
   "cell_type": "markdown",
   "metadata": {},
   "source": [
    "<font color='darkblue'> <h2>Simple Searches WITHOUT Regular Expressions</h2> </font>\n",
    "\n",
    "Let's first explore how to perform simple searches using what we know so far (e.g., without regular expressions). We'll define a word and a pattern, then check if the pattern is included in the word (for fun, we can set up the code to accept user input)"
   ]
  },
  {
   "cell_type": "code",
   "execution_count": 14,
   "metadata": {},
   "outputs": [
    {
     "name": "stdout",
     "output_type": "stream",
     "text": [
      "The pattern doesn't match the input word\n"
     ]
    }
   ],
   "source": [
    "# Example: pattern matching without regex using \"in\"\n",
    "\n",
    "word = input(\"Enter a word: \")\n",
    "pattern = 'as'\n",
    "\n",
    "if pattern in word:\n",
    "    print(\"The pattern matches the input word\")\n",
    "else:\n",
    "    print(\"The pattern doesn't match the input word\")"
   ]
  },
  {
   "cell_type": "markdown",
   "metadata": {},
   "source": [
    "This is fine for a simple substring pattern, but doesn't work for more complex patterns. For example, this won't work to find any string that contains <code>as</code> when the two letters are not close to each other. That's why we want to use Python regular expression, <code>re</code>, module!"
   ]
  },
  {
   "cell_type": "markdown",
   "metadata": {},
   "source": [
    "<font color='darkblue'> <h2>Simple Searches WITH Regular Expressions</h2> </font>\n",
    "\n",
    "### search()\n",
    "Here is how we could do the exact same search with Python's pattern matching tools. We use the <code>search()</code> function in the <code>re</code> module (we will illustrate all main functions in the next session):"
   ]
  },
  {
   "cell_type": "code",
   "execution_count": 5,
   "metadata": {},
   "outputs": [],
   "source": [
    "# import regular expression library \n",
    "import re"
   ]
  },
  {
   "cell_type": "code",
   "execution_count": 18,
   "metadata": {},
   "outputs": [
    {
     "name": "stdout",
     "output_type": "stream",
     "text": [
      "The pattern doesn't match the word\n"
     ]
    }
   ],
   "source": [
    "# Example: pattern matching with regex\n",
    "\n",
    "word = input(\"Enter a word: \")\n",
    "pattern = 'as'\n",
    "\n",
    "if re.search(pattern, word): \n",
    "    print(\"The pattern matches the word\")\n",
    "else:\n",
    "    print(\"The pattern doesn't match the word\")"
   ]
  },
  {
   "cell_type": "markdown",
   "metadata": {},
   "source": [
    "<code>re.search()</code> takes two arguments: a pattern and a string: \n",
    "* if the search is successful (true), the function returns a \"match object\" \n",
    "* if it is not successful (false), the function returns <code>None</code>\n",
    "\n",
    "So far, this seem just a complication, but with <code>re.search()</code> we can specify more complex patterns that would not be feasible or would require a lot of coding otherwise.\n",
    "\n",
    "For example, with regular expression we can easily find two letters that are not close to each other (like \"a\" and \"s\" not close to each other, vs \"as\"):"
   ]
  },
  {
   "cell_type": "code",
   "execution_count": null,
   "metadata": {},
   "outputs": [
    {
     "name": "stdout",
     "output_type": "stream",
     "text": [
      "['a..s', 'a.*s']\n"
     ]
    }
   ],
   "source": [
    "# create an empty list named 'pats' for patterns\n",
    "pats = []\n",
    "\n",
    "# any string where an 'a' occurs, followed by exactly two other characters, and an 's' occurs\n",
    "pats.append('a..s')\n",
    "\n",
    "# any string where an 'a' occurs, followed by any number of characters, and an 's' occurs\n",
    "pats.append('a.*s')\n",
    "\n",
    "print(pats)"
   ]
  },
  {
   "cell_type": "code",
   "execution_count": 17,
   "metadata": {},
   "outputs": [
    {
     "name": "stdout",
     "output_type": "stream",
     "text": [
      "The pattern a..s matches\n",
      "The pattern a.*s matches\n"
     ]
    }
   ],
   "source": [
    "word = input('Enter a word: ')\n",
    "\n",
    "for pat in pats:\n",
    "    if re.search(pat, word):\n",
    "        print(\"The pattern\", pat, \"matches\")\n",
    "    else:\n",
    "        print(\"The pattern\", pat, \"doesn't match\")\n",
    "        \n",
    "# letter 'a' does not have to be at the beginning for example paoos matches in both"
   ]
  },
  {
   "cell_type": "markdown",
   "metadata": {},
   "source": [
    "### findall()\n",
    "\n",
    "Let's try another example, this time using another function from the `re` module: `findall()`:"
   ]
  },
  {
   "cell_type": "code",
   "execution_count": null,
   "metadata": {},
   "outputs": [
    {
     "data": {
      "text/plain": [
       "['regex', 'regex']"
      ]
     },
     "execution_count": 11,
     "metadata": {},
     "output_type": "execute_result"
    }
   ],
   "source": [
    "# match all matches of the word \"regex\" in this string\n",
    "\n",
    "a = \"Let's find the word 'regex' using regexes!\"\n",
    "re.findall(r'regex', a)\n",
    "# The r before the string indicates a raw string, which means that backslashes are treated as literal characters. \n",
    "# The backslashes are used to escape special characters in regular expressions. For example, \\w matches any word character,\n",
    "# If you want to calculate the how many times the word are matched, use len() function, which is len(re.findall(r'regex', a))"
   ]
  },
  {
   "cell_type": "markdown",
   "metadata": {},
   "source": [
    "Note we used <b>raw strings</b> in this example. Raw strings in Python are normal strings but prefixed with an \"r\": in the example we just run we could do without them, but in most cases they are useful as they allow to interpret the backslash \\ as a literal character, rather than an escape character. \n",
    "\n",
    "Compare what happens if we add a tab-space \"\\t\" and a new-line \"\\n\" to a regular string VS. a raw string:"
   ]
  },
  {
   "cell_type": "code",
   "execution_count": 19,
   "metadata": {},
   "outputs": [
    {
     "name": "stdout",
     "output_type": "stream",
     "text": [
      "This\t will do a tab space and \n",
      "this will go on a new line\n",
      "\n",
      "This\\t won't do a tab space and \\nthis won't go on a new line\\n\n"
     ]
    }
   ],
   "source": [
    "# regular string\n",
    "print(\"This\\t will do a tab space and \\nthis will go on a new line\\n\")\n",
    "\n",
    "# raw string\n",
    "print(r\"This\\t won't do a tab space and \\nthis won't go on a new line\\n\")"
   ]
  },
  {
   "cell_type": "markdown",
   "metadata": {},
   "source": [
    "Why does this matter with regular expressions? \n",
    "\n",
    "In most cases it does not matter whether you preface a regular expression with an `r` or not, because you will get the same results. But you need them in all cases in which there are backlash and you need to match them literally. Conceptually this happens: \n",
    "\n",
    "* `re.findall(\"\\n\", text)`: matches a new line in text\n",
    "* `re.findall(r\"\\n\", text)`: matches a literal backlash followed by the character 'n' in text\n",
    "\n",
    "Take home point: it is good practice to use raw strings when writing regular expressions, even when not strickly necessary."
   ]
  },
  {
   "cell_type": "markdown",
   "metadata": {},
   "source": [
    "<font color='darkblue'> <h2> Key functions in re module: findall(), search(), match(), split(), sub()</h2> </font>"
   ]
  },
  {
   "cell_type": "markdown",
   "metadata": {},
   "source": [
    "So far, we have seen findall() and search() from the `re` module:\n",
    "\n",
    "* <code>re.findall()</code>: scans the ENTIRE string and returns ALL occurrences that match the given pattern \n",
    "* <code>re.search()</code>: scans the ENTIRE string but returns only the FIRST occurrence that matches the given pattern.\n",
    "\n",
    "While `re.findall()` returns a list with all matches, `re.search()` returns a \"Match object\" or a \"None object\" if no match is found:"
   ]
  },
  {
   "cell_type": "code",
   "execution_count": 20,
   "metadata": {},
   "outputs": [
    {
     "name": "stdout",
     "output_type": "stream",
     "text": [
      "['regex', 'regex']\n"
     ]
    }
   ],
   "source": [
    "a = \"It is fun to find the word 'regex' using regexes\"\n",
    "\n",
    "print(re.findall(r\"regex\", a))\n",
    "#type(re.findall(r\"regex\", a))"
   ]
  },
  {
   "cell_type": "code",
   "execution_count": 21,
   "metadata": {},
   "outputs": [
    {
     "name": "stdout",
     "output_type": "stream",
     "text": [
      "<re.Match object; span=(28, 33), match='regex'>\n"
     ]
    }
   ],
   "source": [
    "print(re.search(r\"regex\", a))\n",
    "#type(re.search(r\"regex\", a))"
   ]
  },
  {
   "cell_type": "markdown",
   "metadata": {},
   "source": [
    "Meaning:\n",
    "* <code>span=(28, 33)</code> portion of string in which the match was found: start at character position 28 and go up to, but not including 33\n",
    "* <code>match='regex'</code> characters from the string have been matched\n",
    "    \n",
    "We can also display the results as a boolean True or False, with <code>bool((re.search(\"regex\", a))</code>"
   ]
  },
  {
   "cell_type": "code",
   "execution_count": 22,
   "metadata": {},
   "outputs": [
    {
     "data": {
      "text/plain": [
       "True"
      ]
     },
     "execution_count": 22,
     "metadata": {},
     "output_type": "execute_result"
    }
   ],
   "source": [
    "bool(re.search(\"regex\", a))"
   ]
  },
  {
   "cell_type": "markdown",
   "metadata": {},
   "source": [
    "### match()\n",
    "\n",
    "A variant of <code>re.search()</code> is <code>re.match()</code>. They both return a match object, but while <code>re.search()</code> scans the ENTIRE string, <code>re.match()</code> scans only the BEGINNING of the string:"
   ]
  },
  {
   "cell_type": "code",
   "execution_count": 23,
   "metadata": {},
   "outputs": [
    {
     "name": "stdout",
     "output_type": "stream",
     "text": [
      "abc found with re.search\n"
     ]
    }
   ],
   "source": [
    "b = \"123abc\"\n",
    "\n",
    "if re.match(\"abc\", b):\n",
    "    print(\"abc found with re.match\")\n",
    "    \n",
    "if re.search(\"abc\", b):\n",
    "    print(\"abc found with re.search\")"
   ]
  },
  {
   "cell_type": "markdown",
   "metadata": {},
   "source": [
    "Note that <code>re.match('pattern')</code> equals <code>re.search('^pattern')</code>. See below for the meaning of the ^ sign"
   ]
  },
  {
   "cell_type": "markdown",
   "metadata": {},
   "source": [
    "### split() and sub()\n",
    "\n",
    "Other useful functions in the Python `re` module are:\n",
    "\n",
    "* <code>re.split()</code>: split text based on patterns \n",
    "* <code>re.sub()</code>: replace a given match"
   ]
  },
  {
   "cell_type": "code",
   "execution_count": 24,
   "metadata": {},
   "outputs": [
    {
     "name": "stdout",
     "output_type": "stream",
     "text": [
      "This is a sentence! re.split will split it based on the pattern! re.sub will replace the pattern\n"
     ]
    }
   ],
   "source": [
    "c = \"This is a sentence! re.split will split it based on the pattern! re.sub will replace the pattern\"\n",
    "print(c)"
   ]
  },
  {
   "cell_type": "code",
   "execution_count": 25,
   "metadata": {},
   "outputs": [
    {
     "data": {
      "text/plain": [
       "['This is a sentence',\n",
       " ' re.split will split it based on the pattern',\n",
       " ' re.sub will replace the pattern']"
      ]
     },
     "execution_count": 25,
     "metadata": {},
     "output_type": "execute_result"
    }
   ],
   "source": [
    "re.split(r\"!\", c)"
   ]
  },
  {
   "cell_type": "code",
   "execution_count": 26,
   "metadata": {},
   "outputs": [
    {
     "data": {
      "text/plain": [
       "'This is a sentence; re.split will split it based on the pattern; re.sub will replace the pattern'"
      ]
     },
     "execution_count": 26,
     "metadata": {},
     "output_type": "execute_result"
    }
   ],
   "source": [
    "re.sub(r\"!\", \";\", c)"
   ]
  },
  {
   "cell_type": "markdown",
   "metadata": {},
   "source": [
    "**Summary of the most common regex functions:**\n",
    "\n",
    "<table width=80%>\n",
    "    <tr>\n",
    "        <td width=60px><code>match</code></td>\n",
    "        <td align=\"left\"> determines if the RE matches at the beginning of the string </td>\n",
    "    </tr>\n",
    "    <tr>\n",
    "        <td><code>fullmatch</code></td>\n",
    "        <td align=\"left\"> determines if the RE matches the whole string </td>\n",
    "    </tr>\n",
    "    <tr> \n",
    "        <td><code>search</code></td>\n",
    "        <td align=\"left\"> scans through a string, looking for any location where this RE matches </td>\n",
    "    </tr>\n",
    "     <tr>\n",
    "        <td><code>findall</code></td>\n",
    "        <td align=\"left\"> finds all substrings where the RE matches, and returns them as a list </td>\n",
    "    </tr>\n",
    "    <tr>\n",
    "        <td><code>split</code></td>\n",
    "        <td align=\"left\"> splits the string by RE pattern </td>\n",
    "    </tr>\n",
    "    <tr>\n",
    "        <td><code>sub</code></td>\n",
    "        <td align=\"left\"> replaces a given RE match </td>\n",
    "    </tr>\n",
    "    \n",
    "</table>\n"
   ]
  },
  {
   "cell_type": "markdown",
   "metadata": {},
   "source": [
    "<b>EXERCISE 1</b>"
   ]
  },
  {
   "cell_type": "markdown",
   "metadata": {},
   "source": [
    "Run the given string:"
   ]
  },
  {
   "cell_type": "code",
   "execution_count": 28,
   "metadata": {},
   "outputs": [],
   "source": [
    "sentence = \"start location: loop, mid location: UChicago, end location: UChicago\""
   ]
  },
  {
   "cell_type": "markdown",
   "metadata": {},
   "source": [
    "1. Use <code>re.search()</code> to check whether it contains \"UChicago\" in any location:"
   ]
  },
  {
   "cell_type": "code",
   "execution_count": 41,
   "metadata": {},
   "outputs": [
    {
     "data": {
      "text/plain": [
       "<re.Match object; span=(36, 44), match='UChicago'>"
      ]
     },
     "execution_count": 41,
     "metadata": {},
     "output_type": "execute_result"
    }
   ],
   "source": [
    "re.search(r\"UChicago\", sentence)"
   ]
  },
  {
   "cell_type": "markdown",
   "metadata": {},
   "source": [
    "2. Check whether it contains \"UChicago\" at the beginning of the string, and display a boolean result:"
   ]
  },
  {
   "cell_type": "code",
   "execution_count": 42,
   "metadata": {},
   "outputs": [
    {
     "data": {
      "text/plain": [
       "False"
      ]
     },
     "execution_count": 42,
     "metadata": {},
     "output_type": "execute_result"
    }
   ],
   "source": [
    "bool(re.match(r\"UChiago\", sentence))"
   ]
  },
  {
   "cell_type": "markdown",
   "metadata": {},
   "source": [
    "3. Check all occurences of \"UChicago\" in the string:"
   ]
  },
  {
   "cell_type": "code",
   "execution_count": 44,
   "metadata": {},
   "outputs": [
    {
     "data": {
      "text/plain": [
       "['UChicago', 'UChicago']"
      ]
     },
     "execution_count": 44,
     "metadata": {},
     "output_type": "execute_result"
    }
   ],
   "source": [
    "re.findall(r\"UChicago\", sentence)"
   ]
  },
  {
   "cell_type": "markdown",
   "metadata": {},
   "source": [
    "4. Replace all occurrences of \"UChicago\" with \"uchicago\":"
   ]
  },
  {
   "cell_type": "code",
   "execution_count": 40,
   "metadata": {},
   "outputs": [
    {
     "data": {
      "text/plain": [
       "'start location: loop, mid location: uchicago, end location: uchicago'"
      ]
     },
     "execution_count": 40,
     "metadata": {},
     "output_type": "execute_result"
    }
   ],
   "source": [
    "re.sub(r\"UChicago\", \"uchicago\", sentence)"
   ]
  },
  {
   "cell_type": "markdown",
   "metadata": {},
   "source": [
    "<font color='darkblue'> <h2>Special Characters</h2> </font>"
   ]
  },
  {
   "cell_type": "markdown",
   "metadata": {},
   "source": [
    "Regexes are much more powerful than just replacing manually specified characters or full words: they also recognize <b>metacharacters</b>. These have a unique meaning to the regex matching engine and vastly enhance the capability of the search.\n",
    "\n",
    "**Summary of the most common metacharacters and expressions:**"
   ]
  },
  {
   "cell_type": "markdown",
   "metadata": {},
   "source": [
    "<table width=90%>\n",
    "    <tr>\n",
    "        <td width=60px><code>[abc]</code></td>\n",
    "        <td align=\"left\"> list of characters in <b>square brackets</b>, will match any one of them</td>\n",
    "    </tr>\n",
    "    <tr>\n",
    "        <td><code>[^abc]</code></td>\n",
    "        <td align=\"left\"> with an initial caret, matches a single character <b>not in the brackets</b></td>\n",
    "    </tr>\n",
    "    <tr>\n",
    "        <td><code> ^ </code></td>\n",
    "        <td align=\"left\"> caret anchors a match at the <b>start</b> of the string</td>\n",
    "    </tr>\n",
    "    <tr> \n",
    "        <td><code> &dollar; </code></td>\n",
    "        <td align=\"left\"> dollar sign anchors a match at the <b>end</b> of the string</td>\n",
    "    </tr>\n",
    "    <tr>\n",
    "        <td width=60px><code> . </code></td>\n",
    "        <td align=\"left\"> period matches <b>any</b> single character</td>\n",
    "    </tr>\n",
    "      <tr>\n",
    "        <td><code> \\ </code></td>\n",
    "        <td align=\"left\"> escape character to <b>escape</b> any special character such as \\. for \".\"</td>\n",
    "    </tr>\n",
    "    <tr>\n",
    "        <td width=60px><code>\\d</code> </td>\n",
    "        <td align=\"left\"> <b>one digit</b> character: matches a decimal digit character; same as [0-9]</td>\n",
    "    </tr>\n",
    "    <tr>\n",
    "        <td> <code>\\D</code> </td>\n",
    "        <td align=\"left\"> <b>one non-digit</b> character: matches any character that is not decimal digit; same as [^0-9]</td>\n",
    "    </tr>\n",
    "    <tr>\n",
    "        <td> <code>\\w</code> </td>\n",
    "        <td align=\"left\"> <b>one word</b> character: matches any alphanumeric character (letters, digits, underscores, upper and lower case); same as [a-zA-Z0-9_]</td>\n",
    "    </tr>\n",
    "    <tr>\n",
    "        <td> <code>\\W</code> </td>\n",
    "        <td align=\"left\"> <b>one non-word</b> character: matches any non-alphanumeric character (anything that's not a letter, digit, or underscore); same as [^a-zA-Z0-9_] </td>\n",
    "    </tr>\n",
    "    <tr>\n",
    "        <td> <code>\\s</code> </td>\n",
    "        <td align=\"left\"><b>one whitespace</b> character: matches whitespaces </td>\n",
    "    </tr>\n",
    "    <tr>\n",
    "        <td> <code>\\S</code> </td>\n",
    "        <td align=\"left\"> <b>one non-whitespace</b> character:matches any character that isn't a whitespace </td>\n",
    "    </tr>\n",
    "     <tr>\n",
    "        <td> <code>\\b</code> </td>\n",
    "        <td align=\"left\"> <b>word boundary</b> character: allows to perform a \"whole words only\" search </td>\n",
    "    </tr>\n",
    "</table>\n"
   ]
  },
  {
   "cell_type": "markdown",
   "metadata": {},
   "source": [
    "A set of characters specified in square brackets <code>[]</code> makes up a <b>character class.</b> For example, if we want to determine whether a string contains any number of consecutive <b>decimal digit characters</b>, we could use <code>[0-9]</code>:"
   ]
  },
  {
   "cell_type": "code",
   "execution_count": 55,
   "metadata": {},
   "outputs": [
    {
     "data": {
      "text/plain": [
       "['123']"
      ]
     },
     "execution_count": 55,
     "metadata": {},
     "output_type": "execute_result"
    }
   ],
   "source": [
    "d = 'ciao_Good_123_12hi'\n",
    "\n",
    "# find three consecutive decimal characters\n",
    "re.findall(r\"\\d{3}\", d)\n",
    "re.findall('[0-9]'*3,d)"
   ]
  },
  {
   "cell_type": "code",
   "execution_count": null,
   "metadata": {},
   "outputs": [
    {
     "data": {
      "text/plain": [
       "['12', '12']"
      ]
     },
     "execution_count": 56,
     "metadata": {},
     "output_type": "execute_result"
    }
   ],
   "source": [
    "# find two consecutive decimal characters\n",
    "re.findall('[0-9][0-9]', d)\n",
    "# can also do re.findall(r\"\\d{2}\", d), \\d is finding one digit"
   ]
  },
  {
   "cell_type": "markdown",
   "metadata": {},
   "source": [
    "Notice, our regex finds 12, 12 but not 23. How can we find them all? See groups and backreferences are at the end of this notebook and [here](https://stackoverflow.com/questions/5616822/how-to-use-regex-to-find-all-overlapping-matches)"
   ]
  },
  {
   "cell_type": "markdown",
   "metadata": {},
   "source": [
    "Or we might want to see whether our string contains four <b>alphabetic characters between 'a' and 'z'</b> inclusive, we could use <code>[a-z]</code> or <code>[A-Z]</code>. Before running the code, can you guess what would the following regex match in sentence \"d\"?"
   ]
  },
  {
   "cell_type": "code",
   "execution_count": null,
   "metadata": {},
   "outputs": [
    {
     "data": {
      "text/plain": [
       "['ciao', 'Good']"
      ]
     },
     "execution_count": 58,
     "metadata": {},
     "output_type": "execute_result"
    }
   ],
   "source": [
    "re.findall('[a-zA-Z][a-z][a-z][a-z]', d)\n",
    "\n",
    "# [a-zA-Z] finds any letter, [a-z] finds any lowercase letter, [A-Z] finds any uppercase letter"
   ]
  },
  {
   "cell_type": "markdown",
   "metadata": {},
   "source": [
    "To <b>match characters not in the brackets</b>, use the caret <code>^</code>. For example, here we use it to match all non-alphabetic characters in sentence \"d\":"
   ]
  },
  {
   "cell_type": "code",
   "execution_count": 59,
   "metadata": {},
   "outputs": [
    {
     "data": {
      "text/plain": [
       "['_', 'G', '_', '1', '2', '3', '_', '1', '2']"
      ]
     },
     "execution_count": 59,
     "metadata": {},
     "output_type": "execute_result"
    }
   ],
   "source": [
    "re.findall('[^a-z]', d)"
   ]
  },
  {
   "cell_type": "markdown",
   "metadata": {},
   "source": [
    "If it is outside square brackets <code>[]</code>, the caret <code>^</code> has another meaning: it checks whether one or a set of characters are located at the <b>beginning of a string</b>:"
   ]
  },
  {
   "cell_type": "code",
   "execution_count": 60,
   "metadata": {},
   "outputs": [
    {
     "data": {
      "text/plain": [
       "['ciao']"
      ]
     },
     "execution_count": 60,
     "metadata": {},
     "output_type": "execute_result"
    }
   ],
   "source": [
    "# ^ only looks for matches at the beginning of the string\n",
    "re.findall('^[a-z][a-z][a-z][a-z]', d)"
   ]
  },
  {
   "cell_type": "markdown",
   "metadata": {},
   "source": [
    "The <code>$</code> checks whether one or a set of characters is located at the <b>end of a string</b>:"
   ]
  },
  {
   "cell_type": "code",
   "execution_count": 61,
   "metadata": {},
   "outputs": [
    {
     "data": {
      "text/plain": [
       "['hi']"
      ]
     },
     "execution_count": 61,
     "metadata": {},
     "output_type": "execute_result"
    }
   ],
   "source": [
    "# $ only matches at the end of the string\n",
    "re.findall('[a-z][a-z]$', d)"
   ]
  },
  {
   "cell_type": "markdown",
   "metadata": {},
   "source": [
    "The dot `.` is a <b>wildcard</b> that matches <b>any character</b> except for newline characters. It is useful when you have a mix of characters (letter, digit, whitespace, etc.) or when you do not have detailed information about the text you are trying to match. For example, we could use 4 dots to match the last four characters of sentence \"d\":"
   ]
  },
  {
   "cell_type": "code",
   "execution_count": 62,
   "metadata": {},
   "outputs": [
    {
     "data": {
      "text/plain": [
       "['12hi']"
      ]
     },
     "execution_count": 62,
     "metadata": {},
     "output_type": "execute_result"
    }
   ],
   "source": [
    "re.findall(r\"....$\", d)"
   ]
  },
  {
   "cell_type": "markdown",
   "metadata": {},
   "source": [
    "In some cases, we need to match the `.` or any other special character <b>literally</b>. To do so, we need to <b>escape</b> the special characters using the backslash `\\`. For example, to split sentences on their periods, we use `\\` and <code>re.split()</code>:"
   ]
  },
  {
   "cell_type": "code",
   "execution_count": 63,
   "metadata": {},
   "outputs": [
    {
     "data": {
      "text/plain": [
       "['This is a sentence', 'This is a second sentence.']"
      ]
     },
     "execution_count": 63,
     "metadata": {},
     "output_type": "execute_result"
    }
   ],
   "source": [
    "e = \"This is a sentence. This is a second sentence.\"\n",
    "\n",
    "re.split(r\"\\.\\s+\", e) # include the space so there is not an empty string at the end"
   ]
  },
  {
   "cell_type": "markdown",
   "metadata": {},
   "source": [
    "The <b>\"or\"</b> operator is represented using the `|` character:"
   ]
  },
  {
   "cell_type": "code",
   "execution_count": 64,
   "metadata": {},
   "outputs": [
    {
     "data": {
      "text/plain": [
       "['color', 'colour']"
      ]
     },
     "execution_count": 64,
     "metadata": {},
     "output_type": "execute_result"
    }
   ],
   "source": [
    "f = \"My favorite color is red and Anne's favorite colour is green\"\n",
    "re.findall(r\"color|colour\", f)"
   ]
  },
  {
   "cell_type": "markdown",
   "metadata": {},
   "source": [
    "The \"or\" operator can also be represented by <b>grouping a set of characters</b> using the paranthesis `[]`, which is shorthand for `|` on all of the contents, but it only works for single characters (not for entire words). For example, we might have a set of ugly characters to clean from a sentence:"
   ]
  },
  {
   "cell_type": "code",
   "execution_count": 65,
   "metadata": {},
   "outputs": [
    {
     "data": {
      "text/plain": [
       "'This is MACS 30122 at UChicago.'"
      ]
     },
     "execution_count": 65,
     "metadata": {},
     "output_type": "execute_result"
    }
   ],
   "source": [
    "# clean this sentence with |\n",
    "g = \"This&is#MACS&30122%at#UChicago.\" \n",
    "re.sub(r\"&|#|%|#\", \" \", g) "
   ]
  },
  {
   "cell_type": "code",
   "execution_count": 66,
   "metadata": {},
   "outputs": [
    {
     "data": {
      "text/plain": [
       "'This is MACS 30122 at UChicago.'"
      ]
     },
     "execution_count": 66,
     "metadata": {},
     "output_type": "execute_result"
    }
   ],
   "source": [
    "# clean this sentence with []\n",
    "re.sub(r\"[&#%#]\", \" \", g)"
   ]
  },
  {
   "cell_type": "markdown",
   "metadata": {},
   "source": [
    "Note that we are used <code>re.sub()</code> in both options to substitute stray characters for spaces"
   ]
  },
  {
   "cell_type": "markdown",
   "metadata": {},
   "source": [
    "To represent ranges of common values as sets, we could use any combinations of <code>A-Za-z0-9</code>:"
   ]
  },
  {
   "cell_type": "code",
   "execution_count": 67,
   "metadata": {},
   "outputs": [
    {
     "data": {
      "text/plain": [
       "['pa1', 'PA2', 'Pa3', 'pA4']"
      ]
     },
     "execution_count": 67,
     "metadata": {},
     "output_type": "execute_result"
    }
   ],
   "source": [
    "# matches any series of two letters and one number\n",
    "h = \"pa1, PA2, Pa3, pA4\"\n",
    "re.findall(r\"[a-zA-Z][a-zA-Z][0-9]\", h)"
   ]
  },
  {
   "cell_type": "markdown",
   "metadata": {},
   "source": [
    "We can obtain the same result with the following regular expression, which uses the special character <code>\\d</code> rather than the set <code>[0-9]</code>:"
   ]
  },
  {
   "cell_type": "code",
   "execution_count": 68,
   "metadata": {},
   "outputs": [
    {
     "data": {
      "text/plain": [
       "['pa1', 'PA2', 'Pa3', 'pA4']"
      ]
     },
     "execution_count": 68,
     "metadata": {},
     "output_type": "execute_result"
    }
   ],
   "source": [
    "re.findall(r\"[a-zA-Z][a-zA-Z]\\d\", h)"
   ]
  },
  {
   "cell_type": "markdown",
   "metadata": {},
   "source": [
    "Let's use sentence \"i\" below to illustrate the following metacharacters `\\d`, `\\D`, `\\w`, `\\W`, `\\s`, `\\S`. Try to make a guess of the expected results before running the code:"
   ]
  },
  {
   "cell_type": "code",
   "execution_count": 69,
   "metadata": {},
   "outputs": [],
   "source": [
    "i = \"There are four PAs: PA1, PA2, PA3, PA4. They make 50% of the final grade\""
   ]
  },
  {
   "cell_type": "code",
   "execution_count": 70,
   "metadata": {},
   "outputs": [
    {
     "data": {
      "text/plain": [
       "['PA1', 'PA2', 'PA3', 'PA4']"
      ]
     },
     "execution_count": 70,
     "metadata": {},
     "output_type": "execute_result"
    }
   ],
   "source": [
    "# \\d matches any decimal digit character, same as [0-9]\n",
    "re.findall(r\"PA\\d\", i)"
   ]
  },
  {
   "cell_type": "code",
   "execution_count": 71,
   "metadata": {},
   "outputs": [
    {
     "data": {
      "text/plain": [
       "['PAs']"
      ]
     },
     "execution_count": 71,
     "metadata": {},
     "output_type": "execute_result"
    }
   ],
   "source": [
    "# \\D matches any character that is NOT decimal digit, same as [^0-9]\n",
    "re.findall(r\"PA\\D\", i)"
   ]
  },
  {
   "cell_type": "code",
   "execution_count": 72,
   "metadata": {},
   "outputs": [
    {
     "data": {
      "text/plain": [
       "['PAs', 'PA1', 'PA2', 'PA3', 'PA4']"
      ]
     },
     "execution_count": 72,
     "metadata": {},
     "output_type": "execute_result"
    }
   ],
   "source": [
    "# \\w matches any alphanumeric character, same as [a-zA-Z0-9_] \n",
    "re.findall(r\"PA\\w\", i)"
   ]
  },
  {
   "cell_type": "code",
   "execution_count": 73,
   "metadata": {},
   "outputs": [
    {
     "data": {
      "text/plain": [
       "[' ',\n",
       " ' ',\n",
       " ' ',\n",
       " ':',\n",
       " ' ',\n",
       " ',',\n",
       " ' ',\n",
       " ',',\n",
       " ' ',\n",
       " ',',\n",
       " ' ',\n",
       " '.',\n",
       " ' ',\n",
       " ' ',\n",
       " ' ',\n",
       " '%',\n",
       " ' ',\n",
       " ' ',\n",
       " ' ',\n",
       " ' ']"
      ]
     },
     "execution_count": 73,
     "metadata": {},
     "output_type": "execute_result"
    }
   ],
   "source": [
    "# \\W matches any NON-alphanumeric character, same as [^a-zA-Z0-9_]\n",
    "re.findall(r\"\\W\", i)"
   ]
  },
  {
   "cell_type": "code",
   "execution_count": 74,
   "metadata": {},
   "outputs": [
    {
     "data": {
      "text/plain": [
       "['50%']"
      ]
     },
     "execution_count": 74,
     "metadata": {},
     "output_type": "execute_result"
    }
   ],
   "source": [
    "re.findall(r\"\\d\\d\\W\", i) # grab non-word values with \\W"
   ]
  },
  {
   "cell_type": "code",
   "execution_count": 75,
   "metadata": {},
   "outputs": [
    {
     "data": {
      "text/plain": [
       "['50%']"
      ]
     },
     "execution_count": 75,
     "metadata": {},
     "output_type": "execute_result"
    }
   ],
   "source": [
    "re.findall(r\"\\d\\d\\S\", i) # the match above can be done also with \\S"
   ]
  },
  {
   "cell_type": "code",
   "execution_count": 76,
   "metadata": {},
   "outputs": [
    {
     "data": {
      "text/plain": [
       "['final grade']"
      ]
     },
     "execution_count": 76,
     "metadata": {},
     "output_type": "execute_result"
    }
   ],
   "source": [
    "# \\s matches any whitespace character\n",
    "re.findall(r\"\\s\", i)\n",
    "re.findall(r\"final\\sgrade\", i)"
   ]
  },
  {
   "cell_type": "markdown",
   "metadata": {},
   "source": [
    "Note that the character class sequences `\\w`, `\\W`, `\\d`, `\\D`, `\\s`, `\\S` can appear inside a square bracket character class as well, like <code>[0-9]</code> or <code>[a-z]</code>"
   ]
  },
  {
   "cell_type": "markdown",
   "metadata": {},
   "source": [
    "<b>EXERCISE 2</b>\n",
    "\n",
    "Extract the phone numbers from the string \"l\" below (use only what we have learned so far):"
   ]
  },
  {
   "cell_type": "code",
   "execution_count": 78,
   "metadata": {},
   "outputs": [],
   "source": [
    "l = \"My number is 444-3340, but Carl number is 555-3755, Richard number is 666-6681\""
   ]
  },
  {
   "cell_type": "code",
   "execution_count": null,
   "metadata": {},
   "outputs": [
    {
     "data": {
      "text/plain": [
       "['444-3340', '555-3755', '666-6681']"
      ]
     },
     "execution_count": 79,
     "metadata": {},
     "output_type": "execute_result"
    }
   ],
   "source": [
    "re.findall(r\"\\d{3}-\\d{4}\", l)\n",
    "# \\d{3} matches any three decimal digits\n",
    "# - matches the hyphen character\n",
    "# \\d{4} matches any four decimal digits"
   ]
  },
  {
   "cell_type": "markdown",
   "metadata": {},
   "source": [
    "<font color='darkblue'> <h2> Quantifiers </h2> </font>"
   ]
  },
  {
   "cell_type": "markdown",
   "metadata": {},
   "source": [
    "These solutions work but, we can simplify them, by using repeated characters in regexes:"
   ]
  },
  {
   "cell_type": "code",
   "execution_count": 80,
   "metadata": {},
   "outputs": [
    {
     "data": {
      "text/plain": [
       "['444-3340', '555-3755', '666-6681']"
      ]
     },
     "execution_count": 80,
     "metadata": {},
     "output_type": "execute_result"
    }
   ],
   "source": [
    "re.findall(r\"[0-9]{3}-[0-9]{4}\", l)\n",
    "\n",
    "# re.findall(r\"\\d{3}-\\d{4}\", l)"
   ]
  },
  {
   "cell_type": "markdown",
   "metadata": {},
   "source": [
    "We simplified our search for phone numbers using so-called quantifiers. <b>Quantifiers</b> allow to specify conditions such that a certain character must occur 0 or more times, 1 or more times, and so on: "
   ]
  },
  {
   "cell_type": "markdown",
   "metadata": {},
   "source": [
    "<table width=80%>\n",
    "    <tr>\n",
    "        <td width=60px><code> * </code></td>\n",
    "        <td align=\"left\"> star matches <b>0 or more</b> single character</td>\n",
    "    </tr>\n",
    "    <tr>\n",
    "        <td><code> + </code></td>\n",
    "        <td align=\"left\"> plus matches <b>1 or more</b> </td>\n",
    "    </tr>\n",
    "    <tr>\n",
    "        <td><code> ? </code></td>\n",
    "        <td align=\"left\"> question mark matches <b>0 or 1</b> </td>\n",
    "    </tr>\n",
    "    <tr>\n",
    "        <td><code>{2}</code></td>\n",
    "        <td align=\"left\"> {} matches a specified number of repetitions, here exactly 2 </td>\n",
    "    </tr>\n",
    "    <tr>\n",
    "        <td><code>{2,5}</code></td>\n",
    "        <td align=\"left\"> between 2 and 5 </td>\n",
    "    </tr>\n",
    "    <tr>\n",
    "        <td width=60px><code>{2,}</code> </td>\n",
    "        <td align=\"left\"> 2 or more </td>\n",
    "    </tr>\n",
    "    <tr>\n",
    "        <td> <code>{,5}</code> </td>\n",
    "        <td align=\"left\"> up to 5 </td>\n",
    "    </tr>\n",
    "</table>"
   ]
  },
  {
   "cell_type": "markdown",
   "metadata": {},
   "source": [
    "Let's see a few more examples of quantifiers:"
   ]
  },
  {
   "cell_type": "code",
   "execution_count": 81,
   "metadata": {},
   "outputs": [
    {
     "data": {
      "text/plain": [
       "['444-3340', '555-3755', '666-6681']"
      ]
     },
     "execution_count": 81,
     "metadata": {},
     "output_type": "execute_result"
    }
   ],
   "source": [
    "# another way to solve the previous example of sentence \"l\" using quantifiers\n",
    "\n",
    "re.findall(r\"\\d+-\\d+\", l)"
   ]
  },
  {
   "cell_type": "code",
   "execution_count": 82,
   "metadata": {},
   "outputs": [
    {
     "data": {
      "text/plain": [
       "['444-3340', '555-3755', '666-6681']"
      ]
     },
     "execution_count": 82,
     "metadata": {},
     "output_type": "execute_result"
    }
   ],
   "source": [
    "# we could build in more flexbility, by accomodating for phone numbers of 2 or 3 start digits\n",
    "\n",
    "re.findall(r\"\\d{2,3}-\\d{4,}\", l) # {n, m} at least n times, at most m times"
   ]
  },
  {
   "cell_type": "code",
   "execution_count": 85,
   "metadata": {},
   "outputs": [],
   "source": [
    "quantifiers = \"zooooom in oh oh!\""
   ]
  },
  {
   "cell_type": "code",
   "execution_count": 86,
   "metadata": {},
   "outputs": [
    {
     "name": "stdout",
     "output_type": "stream",
     "text": [
      "['', 'ooooo', '', '', '', '', '', 'o', '', '', 'o', '', '', '']\n"
     ]
    }
   ],
   "source": [
    "# \"o*\" matches \"o\" exactly zero or more repetitions of the character \"o\"\n",
    "\n",
    "print(re.findall(r\"o*\", quantifiers))"
   ]
  },
  {
   "cell_type": "code",
   "execution_count": 87,
   "metadata": {},
   "outputs": [
    {
     "name": "stdout",
     "output_type": "stream",
     "text": [
      "['ooooo', 'o', 'o']\n"
     ]
    }
   ],
   "source": [
    "# \"o+\" matches \"o\" exactly 1 or more repetitions of the character \"o\"\n",
    "\n",
    "print(re.findall(r\"o+\", quantifiers))"
   ]
  },
  {
   "cell_type": "code",
   "execution_count": 88,
   "metadata": {},
   "outputs": [
    {
     "name": "stdout",
     "output_type": "stream",
     "text": [
      "['ooooo']\n"
     ]
    }
   ],
   "source": [
    "# \"o{5}\" matches \"o\" exactly 5 contiguous times\n",
    "\n",
    "print(re.findall(r\"o{5}\", quantifiers))"
   ]
  },
  {
   "cell_type": "code",
   "execution_count": 89,
   "metadata": {},
   "outputs": [
    {
     "name": "stdout",
     "output_type": "stream",
     "text": [
      "['ooooo', 'o', 'o']\n"
     ]
    }
   ],
   "source": [
    "# \"o{,5}\" matches \"o\" between 1 and 5 contiguous times\n",
    "\n",
    "print(re.findall(r\"o{1,5}\", quantifiers))"
   ]
  },
  {
   "cell_type": "code",
   "execution_count": 90,
   "metadata": {},
   "outputs": [
    {
     "name": "stdout",
     "output_type": "stream",
     "text": [
      "['zooooom']\n"
     ]
    }
   ],
   "source": [
    "# match \"z\" followed by one or more word characters, terminated by \"m\"\n",
    "\n",
    "print(re.findall(r\"z\\w+m\", quantifiers))"
   ]
  },
  {
   "cell_type": "markdown",
   "metadata": {},
   "source": [
    "We can also represent ranges of common values as sets. The following regex matches any series of two letters and one number:"
   ]
  },
  {
   "cell_type": "code",
   "execution_count": 91,
   "metadata": {},
   "outputs": [
    {
     "data": {
      "text/plain": [
       "['pa1', 'PA2', 'Pa3', 'pA4']"
      ]
     },
     "execution_count": 91,
     "metadata": {},
     "output_type": "execute_result"
    }
   ],
   "source": [
    "m = \"pa1, PA2, Pa3, pA4\"\n",
    "re.findall(r\"[a-zA-Z]{2}\\d\", m) "
   ]
  },
  {
   "cell_type": "markdown",
   "metadata": {},
   "source": [
    "And we can negate values in the set using the caret <code>^</code>: "
   ]
  },
  {
   "cell_type": "code",
   "execution_count": 92,
   "metadata": {},
   "outputs": [
    {
     "data": {
      "text/plain": [
       "['PA2']"
      ]
     },
     "execution_count": 92,
     "metadata": {},
     "output_type": "execute_result"
    }
   ],
   "source": [
    "re.findall(r\"[^a-z]{2}\\d\", m)"
   ]
  },
  {
   "cell_type": "markdown",
   "metadata": {},
   "source": [
    "To match the names in the sentence below we can use  <code>[a-z]</code> and literal matches along with the <code>*</code> quantifier which matches zero or more recurrences of a single character: "
   ]
  },
  {
   "cell_type": "code",
   "execution_count": 93,
   "metadata": {},
   "outputs": [
    {
     "data": {
      "text/plain": [
       "['#richard', '#bob', '@$usan']"
      ]
     },
     "execution_count": 93,
     "metadata": {},
     "output_type": "execute_result"
    }
   ],
   "source": [
    "n = \"#richard said that #bob loved the dinner cooked by @$usan\"\n",
    "re.findall(r\"[#@][a-z]*\\$*[a-z]*\", n) # match zero or more with asterisk"
   ]
  },
  {
   "cell_type": "markdown",
   "metadata": {},
   "source": [
    "NB: Keep in mind that quantifiers like `*` or `+` or `?` apply to the character immediately to the left and not the full set of characters. So in the example above, each `*` applies only to the one character to the left"
   ]
  },
  {
   "cell_type": "markdown",
   "metadata": {},
   "source": [
    "<b>EXERCISE 3</b>"
   ]
  },
  {
   "cell_type": "markdown",
   "metadata": {},
   "source": [
    "Build a regular expression pattern that matches all three emails in this string:"
   ]
  },
  {
   "cell_type": "code",
   "execution_count": 95,
   "metadata": {},
   "outputs": [],
   "source": [
    "email = \"smith90@uchicago.edu nardin@uchicago.edu happy2@uchicago.edu\""
   ]
  },
  {
   "cell_type": "code",
   "execution_count": 96,
   "metadata": {},
   "outputs": [
    {
     "data": {
      "text/plain": [
       "['smith90@uchicago.edu', 'nardin@uchicago.edu', 'happy2@uchicago.edu']"
      ]
     },
     "execution_count": 96,
     "metadata": {},
     "output_type": "execute_result"
    }
   ],
   "source": [
    "re.findall(r\"\\w+@\\w+\\.\\w+\", email)"
   ]
  },
  {
   "cell_type": "markdown",
   "metadata": {},
   "source": [
    "<font color='darkblue'> <h2> Greedy & Non-Greedy matching </h2> </font>"
   ]
  },
  {
   "cell_type": "markdown",
   "metadata": {},
   "source": [
    "So far, we've been doing a form of matching called greedy matching: this is the default matching for the regex quantifiers.\n",
    "\n",
    "Examples of <b>Greedy</b> quantifiers are ?, *, +, and {,}: \n",
    "* They match <b>as many characters as possible</b>, and return the longest string at the first match that matches the pattern (e.g., the regex goes to the end of string, then backtracks until it matches end pattern)\n",
    "* Example: the regex \"a+\" will match as many \"a\" as possibile in the string \"aaaa\" even even though the substrings \"a\", \"aa\", \"aaa\" all match the regex \"a+\"\n",
    "\n",
    "Examples of <b>Lazy</b> or <b>Non-Greedy</b> quantifiers are ??, *?, +?, and {,}?:\n",
    "* They match <b>as few characters as possibile</b>, and stop at the first recurrence of a character (e.g., the regex moves forward through the string one character at a time, and stops at the first match)\n",
    "* Example: the regex 'a+?' will match as few \"a\" as possible in the string \"aaaa\". Thus, it matches the first character \"a\" and is done with it"
   ]
  },
  {
   "cell_type": "code",
   "execution_count": 97,
   "metadata": {},
   "outputs": [],
   "source": [
    "n = \"abc abbbc abbcabbbc\""
   ]
  },
  {
   "cell_type": "code",
   "execution_count": 98,
   "metadata": {},
   "outputs": [
    {
     "data": {
      "text/plain": [
       "['abc', 'abbbc', 'abbcabbbc']"
      ]
     },
     "execution_count": 98,
     "metadata": {},
     "output_type": "execute_result"
    }
   ],
   "source": [
    "# greedy matching: match 'a', followed by one-or-more word characters, terminated by 'c'\n",
    "\n",
    "re.findall(r\"a\\w+c\", n)  "
   ]
  },
  {
   "cell_type": "code",
   "execution_count": 99,
   "metadata": {},
   "outputs": [
    {
     "data": {
      "text/plain": [
       "['abc', 'abbbc', 'abbc', 'abbbc']"
      ]
     },
     "execution_count": 99,
     "metadata": {},
     "output_type": "execute_result"
    }
   ],
   "source": [
    "# lazy matching: match 'a', followed by one-or-more word characters, terminated by 'c'\n",
    "\n",
    "re.findall(r\"a\\w+?c\", n) "
   ]
  },
  {
   "cell_type": "markdown",
   "metadata": {},
   "source": [
    "Note that \"abbcabbc\" would never be matched, as it would lazily stop at 'c'. Instead, there are two matches: \"abbc\" and \"abbbbc\". \n",
    "\n",
    "Another example:"
   ]
  },
  {
   "cell_type": "code",
   "execution_count": 100,
   "metadata": {},
   "outputs": [],
   "source": [
    "o = \"AAAGCGCCCGGGA\" "
   ]
  },
  {
   "cell_type": "code",
   "execution_count": 101,
   "metadata": {},
   "outputs": [
    {
     "data": {
      "text/plain": [
       "['GCGCCCGGG']"
      ]
     },
     "execution_count": 101,
     "metadata": {},
     "output_type": "execute_result"
    }
   ],
   "source": [
    "# greedy matching\n",
    "\n",
    "re.findall(r\"G.*G\", o) \n",
    "\n",
    "# GCG matches G.*G, but GCGCCCGGG is longer and starts at the same character, \n",
    "# so it is matched instead"
   ]
  },
  {
   "cell_type": "code",
   "execution_count": 102,
   "metadata": {},
   "outputs": [
    {
     "data": {
      "text/plain": [
       "['GCG', 'GG']"
      ]
     },
     "execution_count": 102,
     "metadata": {},
     "output_type": "execute_result"
    }
   ],
   "source": [
    "# lazy matching\n",
    "\n",
    "re.findall(r\"G.*?G\", o)"
   ]
  },
  {
   "cell_type": "markdown",
   "metadata": {},
   "source": [
    "<font color='darkblue'> <h2> Groupings and Backreferences </h2> </font>"
   ]
  },
  {
   "cell_type": "markdown",
   "metadata": {},
   "source": [
    "Matches can be grouped according to patterns, using parentheses. The `group()` function allows the whole match to be separated into groups, corresponding to the different parenthesized parts of the pattern."
   ]
  },
  {
   "cell_type": "markdown",
   "metadata": {},
   "source": [
    "Grouping syntax:\n",
    "\n",
    "<code>match = re.search(\"(pattern1)(pattern2)\", string)\n",
    "\n",
    "<code>if match:\n",
    "    <code>print(match.group(1)) # prints the string that matches pattern 1\n",
    "    <code>print(match.group(2)) # prints the string that matches pattern 2"
   ]
  },
  {
   "cell_type": "markdown",
   "metadata": {},
   "source": [
    "Grouping example:"
   ]
  },
  {
   "cell_type": "code",
   "execution_count": 103,
   "metadata": {},
   "outputs": [
    {
     "name": "stdout",
     "output_type": "stream",
     "text": [
      "Apple\n",
      "3.99\n"
     ]
    }
   ],
   "source": [
    "match = re.search('(\\w+)(\\s)(\\d.+)', \"Apple 3.99\")\n",
    "\n",
    "print(match.group(1))  # group 1 is (\\w+)\n",
    "print(match.group(3))  # group 3 is (\\d.+)"
   ]
  },
  {
   "cell_type": "markdown",
   "metadata": {},
   "source": [
    "Use groups to match a sentence:"
   ]
  },
  {
   "cell_type": "code",
   "execution_count": 104,
   "metadata": {},
   "outputs": [
    {
     "name": "stdout",
     "output_type": "stream",
     "text": [
      "<re.Match object; span=(0, 12), match='Hello world!'>\n",
      "<re.Match object; span=(0, 46), match='This works only without commas or apostrophes.'>\n",
      "<re.Match object; span=(20, 61), match='with this sentence that contains a comma.'>\n"
     ]
    }
   ],
   "source": [
    "s = \"Hello world!\"\n",
    "s1 = \"This works only without commas or apostrophes.\"\n",
    "s2 = \"Test if s1 is true, with this sentence that contains a comma.\"\n",
    "\n",
    "group = r'\\w+(\\s\\w+)*[.?!]'\n",
    "       \n",
    "print(re.fullmatch(group, s)) \n",
    "print(re.search(group, s1))\n",
    "print(re.search(group, s2))"
   ]
  },
  {
   "cell_type": "markdown",
   "metadata": {},
   "source": [
    "Generally speaking, the above pattern <code>\\w+(\\s\\w+)*[.?!]</code> matches a sentence. Specifically, it matches: \n",
    "one-or-more word characters followed by zero-or-more repetitions of, a single whitespace character followed by one-or-more word characters, all terminated with a period, question-mark or exclamation point (phew!)."
   ]
  },
  {
   "cell_type": "markdown",
   "metadata": {},
   "source": [
    "With grouping we can also implement <b>look ahead</b> and <b>look behind</b> syntax:"
   ]
  },
  {
   "cell_type": "markdown",
   "metadata": {},
   "source": [
    "<table width=100%>\n",
    "    <tr>\n",
    "        <td width=80px><code>e1(?=e2)</code></td>\n",
    "        <td align=\"left\"> <b>Positive Lookahead</b>: match example1 (e1) if text following it IS matched by example2 (e2); does not include e2 in the match</td>\n",
    "    </tr>\n",
    "    <tr>\n",
    "        <td><code>e1(?!e2)</code></td>\n",
    "        <td align=\"left\"> <b>Negative Lookahead</b>: match example1 if text following it IS NOT matched by example2; does not include e2 in the match</td>\n",
    "    </tr>\n",
    "    <tr>\n",
    "        <td><code>(?&lt;=e1)e2</code></td>\n",
    "        <td align=\"left\"> <b>Positive Lookbehind</b>: match future text using example2, if previous text IS matched by example1; does not include e1</td>\n",
    "    </tr>\n",
    "    <tr>\n",
    "        <td><code>(?&lt;!e1)e2</code></td>\n",
    "        <td align=\"left\"> <b>Negative Lookbehind</b>: match future text using example2, if previous text IS NOT matched by example1; does not include e1</td>\n",
    "    </tr>\n",
    "</table>"
   ]
  },
  {
   "cell_type": "code",
   "execution_count": 105,
   "metadata": {},
   "outputs": [
    {
     "data": {
      "text/plain": [
       "['foot']"
      ]
     },
     "execution_count": 105,
     "metadata": {},
     "output_type": "execute_result"
    }
   ],
   "source": [
    "# positive lookahead\n",
    "# matches \"foot\" if followed by \"print\" \n",
    "\n",
    "r = 'footprint footstool'\n",
    "re.findall(r'foot(?=print)', r)"
   ]
  },
  {
   "cell_type": "code",
   "execution_count": 106,
   "metadata": {},
   "outputs": [
    {
     "data": {
      "text/plain": [
       "['foot']"
      ]
     },
     "execution_count": 106,
     "metadata": {},
     "output_type": "execute_result"
    }
   ],
   "source": [
    "# negative lookahead\n",
    "# matches \"foot\" if NOT followed by \"print\"\n",
    "\n",
    "s = 'footprint footsool'\n",
    "re.findall(r'foot(?!print)', s)"
   ]
  },
  {
   "cell_type": "markdown",
   "metadata": {},
   "source": [
    "<b>Backreferences</b> allows to reuse parts of regular expressions, <b>by referring back</b> (hence \"backreference\") to part of the previously captured match. \n",
    "\n",
    "For example, the regex <code>\\b(\\w+)\\b\\s+\\1\\b</code> matches repeated words, such as \"ciao ciao\", because the parentheses in (\\w+) capture a word to Group 1 then the back-reference <code>\\1</code> matches the characters that were captured by Group 1."
   ]
  },
  {
   "cell_type": "code",
   "execution_count": 107,
   "metadata": {},
   "outputs": [
    {
     "data": {
      "text/plain": [
       "['ciao']"
      ]
     },
     "execution_count": 107,
     "metadata": {},
     "output_type": "execute_result"
    }
   ],
   "source": [
    "q = 'ciao ciao hope you are doing well'\n",
    "re.findall(r'\\b(\\w+)\\b\\s+\\1\\b', q)"
   ]
  },
  {
   "cell_type": "code",
   "execution_count": 108,
   "metadata": {},
   "outputs": [
    {
     "data": {
      "text/plain": [
       "['23', '8420', '1']"
      ]
     },
     "execution_count": 108,
     "metadata": {},
     "output_type": "execute_result"
    }
   ],
   "source": [
    "u = '1234 2323 84208420 9339 11 602601'\n",
    "re.findall(r'\\b(\\d+)\\1+\\s+\\b', u)"
   ]
  },
  {
   "cell_type": "code",
   "execution_count": 109,
   "metadata": {},
   "outputs": [
    {
     "data": {
      "text/plain": [
       "['2323 ', '84208420 ', '11 ']"
      ]
     },
     "execution_count": 109,
     "metadata": {},
     "output_type": "execute_result"
    }
   ],
   "source": [
    "pat = re.compile(r'\\b(\\d+)\\1+\\s+\\b')\n",
    "[m[0] for m in pat.finditer(u)]"
   ]
  },
  {
   "cell_type": "markdown",
   "metadata": {},
   "source": [
    "Notice that in both cases, sentence \"q\" and sentence \"u\", findall() only reports the unique sequence in the ouput. If you want the whole repeated sequence (e.g. \"ciao ciao\", \"2323, 84208420, 11\") you need to use <code>finditer()</code>"
   ]
  },
  {
   "cell_type": "markdown",
   "metadata": {},
   "source": [
    "<font color='darkblue'> <h2> Resources </h2> </font>\n",
    "\n",
    "For further pratice with regular expressions, I'd recommend the following resources:\n",
    "* python RE library: https://docs.python.org/3/howto/regex.html\n",
    "* in-depth explanation of python RE library: https://www.w3schools.com/python/python_regex.asp\n",
    "* popular regexes page: https://www.regular-expressions.info/tutorial.html\n",
    "* test your regex before applying it to your text: https://regex101.com/ and https://pythex.org/\n",
    "* great book (for free at UChicago): Friedl, Jeffrey E. \"Mastering Regular Expressions\"\n",
    "* more examples: https://learnbyexample.github.io/py_regular_expressions/cover.html"
   ]
  }
 ],
 "metadata": {
  "@webio": {
   "lastCommId": null,
   "lastKernelId": null
  },
  "kernelspec": {
   "display_name": "base",
   "language": "python",
   "name": "python3"
  },
  "language_info": {
   "codemirror_mode": {
    "name": "ipython",
    "version": 3
   },
   "file_extension": ".py",
   "mimetype": "text/x-python",
   "name": "python",
   "nbconvert_exporter": "python",
   "pygments_lexer": "ipython3",
   "version": "3.9.13"
  }
 },
 "nbformat": 4,
 "nbformat_minor": 4
}
