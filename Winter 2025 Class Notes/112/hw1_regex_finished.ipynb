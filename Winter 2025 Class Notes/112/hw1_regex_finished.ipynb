{
 "cells": [
  {
   "cell_type": "markdown",
   "id": "98fee0fe",
   "metadata": {},
   "source": [
    "<div align=right>\n",
    "Winter 2025<br>\n",
    "Nardin<br>\n",
    "HW 1\n",
    "</div>\n",
    "\n",
    "\n",
    "<font color='darkblue'> <h2 align=center> Homework 1: Regular Expressions</h2> </font>"
   ]
  },
  {
   "cell_type": "markdown",
   "id": "80481409",
   "metadata": {},
   "source": [
    "**Instructions** \n",
    "\n",
    "Write code using regular expressions to find patterns in the text below from Alice in Wonderland. You can use https://regex101.com/ or https://pythex.org/ to test your regex before applying it to your text.\n",
    "\n",
    "Submit on Gradescope your Jupyter notebook with the homework completed and the output of your code visible. Answer all questions.\n",
    "\n",
    "HWs must be completed individually and are graded on a Pass-Fail basis. Before submitting, see the Syllabus for homework policies (what qualifies as a \"Pass\", deadlines, regrading conditions, etc.)\n",
    "\n",
    "At the end of the notebook, list all resources you consulted (e.g., this notebook; if you consult specific websites, please add all links to them; if you use AI, explain for which task you used it and how). Do not submit code you do not fully understand or you have not written yourself."
   ]
  },
  {
   "cell_type": "code",
   "execution_count": 2,
   "id": "3b50ffb1",
   "metadata": {},
   "outputs": [],
   "source": [
    "alice = \"Alice was beginning to get very tired of sitting by her sister on the bank, and of having nothing to do: \\\n",
    "once or twice she had peeped into the book her sister was reading, but it had no pictures or conversations in it, \\\n",
    "'and what is the use of a book,' thought Alice 'without pictures or conversation?' So she was considering in her own mind \\\n",
    "(as well as she could, for the hot day made her feel very sleepy and stupid), whether the pleasure of making a daisy-chain \\\n",
    "would be worth the trouble of getting up and picking the daisies, when suddenly a White Rabbit with pink eyes ran close by her.\\\n",
    "There was nothing so VERY remarkable in that; nor did Alice think it so VERY much out of the way to hear the Rabbit say to \\\n",
    "itself, 'Oh dear!  Oh dear!  I shall be late!' (when she thought it over afterwards, it occurred to her that she ought to have \\\n",
    "wondered at this, but at the time it all seemed quite natural); but when the Rabbit actually \\\n",
    "TOOK A WATCH OUT OF ITS WAISTCOAT-POCKET, and looked at it, and then hurried on, Alice started to her feet, \\\n",
    "for it flashed across her mind that she had never before seen a rabbit with either a waistcoat-pocket, or a watch to \\\n",
    "take out of it, and burning with curiosity, she ran across the field after it, and fortunately was just in time to see it pop \\\n",
    "down a large rabbit-hole under the hedge. \\\n",
    "In another moment down went Alice after it, never once considering how in the world she was to get out again. \\\n",
    "The rabbit-hole went straight on like a tunnel for some way, and then dipped suddenly down, so suddenly that \\\n",
    "Alice had not a moment to think about stopping herself before she found herself falling down a very deep well. \\\n",
    "Either the well was very deep, or she fell very slowly, for she had plenty of time as she went down to look about her and to \\\n",
    "wonder what was going to happen next.  First, she tried to look down and make out what she was coming to, \\\n",
    "but it was too dark to see anything; then she looked at the sides of the well, and noticed that they were filled with \\\n",
    "cupboards and book-shelves; here and there she saw maps and pictures hung upon pegs. \\\n",
    "She took down a jar from one of the shelves as she passed; it was labelled `ORANGE MARMALADE', \\\n",
    "but to her great disappointment it was empty:  she did not like to drop the jar for fear of killing somebody, \\\n",
    "so managed to put it into one of the cupboards as she fell past it. \\ \""
   ]
  },
  {
   "cell_type": "markdown",
   "id": "6432e636",
   "metadata": {},
   "source": [
    "Question 1. Find all uppercase words (e.g., VERY, TOOK, etc.) in the provided text"
   ]
  },
  {
   "cell_type": "code",
   "execution_count": 3,
   "id": "d8a618f1",
   "metadata": {},
   "outputs": [
    {
     "data": {
      "text/plain": [
       "['VERY',\n",
       " 'VERY',\n",
       " 'I',\n",
       " 'TOOK A WATCH OUT OF ITS WAISTCOAT',\n",
       " 'POCKET',\n",
       " 'ORANGE MARMALADE']"
      ]
     },
     "execution_count": 3,
     "metadata": {},
     "output_type": "execute_result"
    }
   ],
   "source": [
    "import re\n",
    "re.findall(r'\\b[A-Z]+(?:\\s+[A-Z]+)*\\b', alice)"
   ]
  },
  {
   "cell_type": "markdown",
   "id": "1cab0381",
   "metadata": {},
   "source": [
    "Question 2. Find all words that *could be* present progressive verbs (i.e., find anything that ends with \"ing\")"
   ]
  },
  {
   "cell_type": "code",
   "execution_count": 4,
   "id": "2ab7cb71",
   "metadata": {},
   "outputs": [
    {
     "data": {
      "text/plain": [
       "['beginning',\n",
       " 'sitting',\n",
       " 'having',\n",
       " 'nothing',\n",
       " 'reading',\n",
       " 'considering',\n",
       " 'making',\n",
       " 'getting',\n",
       " 'picking',\n",
       " 'nothing',\n",
       " 'burning',\n",
       " 'considering',\n",
       " 'stopping',\n",
       " 'falling',\n",
       " 'going',\n",
       " 'coming',\n",
       " 'anything',\n",
       " 'killing']"
      ]
     },
     "execution_count": 4,
     "metadata": {},
     "output_type": "execute_result"
    }
   ],
   "source": [
    "# find progressive verbs\n",
    "re.findall(r'\\b\\w+ing\\b', alice)"
   ]
  },
  {
   "cell_type": "markdown",
   "id": "c7e623de",
   "metadata": {},
   "source": [
    "Question 3. Find all words that contain three consonants close to each other and display these words"
   ]
  },
  {
   "cell_type": "code",
   "execution_count": 33,
   "id": "a8e2f47a",
   "metadata": {},
   "outputs": [
    {
     "data": {
      "text/plain": [
       "['thought',\n",
       " 'worth',\n",
       " 'suddenly',\n",
       " 'thought',\n",
       " 'afterwards',\n",
       " 'ought',\n",
       " 'actually',\n",
       " 'WATCH',\n",
       " 'WAISTCOAT',\n",
       " 'waistcoat',\n",
       " 'watch',\n",
       " 'world',\n",
       " 'straight',\n",
       " 'suddenly',\n",
       " 'suddenly',\n",
       " 'slowly',\n",
       " 'plenty',\n",
       " 'First',\n",
       " 'anything',\n",
       " 'cupboards',\n",
       " 'disappointment',\n",
       " 'empty',\n",
       " 'cupboards']"
      ]
     },
     "execution_count": 33,
     "metadata": {},
     "output_type": "execute_result"
    }
   ],
   "source": [
    "re.findall(r'[a-zA-Z]*[^AEIOUaeiou\\W]{3}[a-zA-Z]*', alice)"
   ]
  },
  {
   "cell_type": "markdown",
   "id": "6652ef71",
   "metadata": {},
   "source": [
    "Question 4. Find anything that could be the past tense of a regular verb (i.e., anything that ends in \"ed\", etc.), and remove duplicates from your results"
   ]
  },
  {
   "cell_type": "code",
   "execution_count": 28,
   "id": "636a7bd0",
   "metadata": {},
   "outputs": [
    {
     "data": {
      "text/plain": [
       "['looked',\n",
       " 'filled',\n",
       " 'wondered',\n",
       " 'started',\n",
       " 'tired',\n",
       " 'flashed',\n",
       " 'hurried',\n",
       " 'noticed',\n",
       " 'dipped',\n",
       " 'occurred',\n",
       " 'labelled',\n",
       " 'tried',\n",
       " 'managed',\n",
       " 'peeped',\n",
       " 'passed',\n",
       " 'seemed']"
      ]
     },
     "execution_count": 28,
     "metadata": {},
     "output_type": "execute_result"
    }
   ],
   "source": [
    "result = re.findall(r'\\b\\w+ed\\d*\\b', alice)\n",
    "unique_result = list(set(result))\n",
    "unique_result\n",
    "\n",
    "# irregular_verbs = [\n",
    "#     'was', 'were', 'had', 'began', 'ran', 'fell', 'saw', 'thought', 'took', \n",
    "#     'made', 'said', 'went', 'found', 'became', 'kept', 'held', 'stood', 'knew', 'wrote'\n",
    "# ]\n",
    "\n",
    "# # irregular_matches = [word for word in alice.split() if word.lower() in irregular_verbs]\n",
    "# # unqiue_irregular_matches = list(set(irregular_matches))\n",
    "# # unqiue_irregular_matches\n"
   ]
  },
  {
   "cell_type": "markdown",
   "id": "87aa5796",
   "metadata": {},
   "source": [
    "Question 5. From the list of words ending in \"ed\" that you found in the previous question, create verb stems by removing the past tense marker. Use only string methods and regular expressions. \n",
    "Note: The goal of this question is to practice using regular expressions and face the challenges of creating a stemmer without advanced NLP tools. Your stemmer is not expected to be 100% precise, but it should show attempts to account for the most common spelling conventions (e.g., \"tired\" should become \"tire,\" not \"tir\"). You can refer to this guide for some spelling rules https://www.rong-chang.com/double_rule.htm and pick a few to implement in your code (e.g., 2 or 3)"
   ]
  },
  {
   "cell_type": "code",
   "execution_count": 29,
   "id": "d192956a",
   "metadata": {},
   "outputs": [
    {
     "name": "stdout",
     "output_type": "stream",
     "text": [
      "['look', 'fill', 'wonder', 'start', 'tire', 'flash', 'hurry', 'notice', 'dip', 'occur', 'label', 'try', 'manage', 'peep', 'pass', 'seem']\n"
     ]
    }
   ],
   "source": [
    "def stem_verbs(verbs):\n",
    "    stems = []\n",
    "    for verb in verbs:\n",
    "        # ied to y\n",
    "        if re.search(r'ied$', verb):\n",
    "            stem = re.sub(r'ied$', 'y', verb)\n",
    "\n",
    "        # solve separately first, since filled and labelled are keep fighting each other and i'm frustrated\n",
    "        elif verb == 'labelled':\n",
    "            stem = 'label'\n",
    "        \n",
    "        elif re.search(r'(ll|ss)ed$', verb):  # specifically for filled and passed\n",
    "            stem = re.sub(r'ed$', '', verb)  \n",
    "        \n",
    "        # double consonant\n",
    "        elif re.search(r'([aeiou])([^aeiou])\\2ed$', verb):  \n",
    "            stem = re.sub(r'([^aeiou])\\1ed$', r'\\1', verb)\n",
    "        \n",
    "        # remove ed and add e  \n",
    "        elif re.search(r'ed$', verb):\n",
    "            stem = re.sub(r'ed$', '', verb) \n",
    "            if re.search(r'[^aeiou]$', stem):\n",
    "                if stem in ['notic', 'tir','manag']:  # 3 cases when e is required\n",
    "                    stem += \"e\"\n",
    "\n",
    "        # remove ed\n",
    "        else:\n",
    "            stem = re.sub(r'ed$', '', verb)\n",
    "\n",
    "        stems.append(stem)\n",
    "    return stems\n",
    "\n",
    "stems = stem_verbs(unique_result)\n",
    "print(stems)\n"
   ]
  }
 ],
 "metadata": {
  "kernelspec": {
   "display_name": "base",
   "language": "python",
   "name": "python3"
  },
  "language_info": {
   "codemirror_mode": {
    "name": "ipython",
    "version": 3
   },
   "file_extension": ".py",
   "mimetype": "text/x-python",
   "name": "python",
   "nbconvert_exporter": "python",
   "pygments_lexer": "ipython3",
   "version": "3.9.13"
  }
 },
 "nbformat": 4,
 "nbformat_minor": 5
}
